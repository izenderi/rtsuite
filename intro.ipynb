{
 "cells": [
  {
   "attachments": {},
   "cell_type": "markdown",
   "metadata": {},
   "source": [
    "# Real-time Suites\n",
    "A suite for real-time related topics<br>\n",
    "By Ziliang Johnson"
   ]
  }
 ],
 "metadata": {
  "kernelspec": {
   "display_name": "rtsuite",
   "language": "python",
   "name": "python3"
  },
  "language_info": {
   "name": "python",
   "version": "3.9.16"
  },
  "orig_nbformat": 4
 },
 "nbformat": 4,
 "nbformat_minor": 2
}
