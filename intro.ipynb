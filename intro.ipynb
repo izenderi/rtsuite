{
 "cells": [
  {
   "attachments": {},
   "cell_type": "markdown",
   "metadata": {},
   "source": [
    "# Real-time Suites\n",
    "A suite for real-time related topics<br>\n",
    "By Ziliang Johnson"
   ]
  },
  {
   "cell_type": "code",
   "execution_count": 1,
   "metadata": {},
   "outputs": [
    {
     "name": "stdout",
     "output_type": "stream",
     "text": [
      "Requirement already satisfied: numpy in /opt/anaconda3/envs/rtsuite/lib/python3.9/site-packages (1.24.3)\n",
      "Requirement already satisfied: pandas in /opt/anaconda3/envs/rtsuite/lib/python3.9/site-packages (2.0.2)\n",
      "Requirement already satisfied: python-dateutil>=2.8.2 in /opt/anaconda3/envs/rtsuite/lib/python3.9/site-packages (from pandas) (2.8.2)\n",
      "Requirement already satisfied: pytz>=2020.1 in /opt/anaconda3/envs/rtsuite/lib/python3.9/site-packages (from pandas) (2023.3)\n",
      "Requirement already satisfied: tzdata>=2022.1 in /opt/anaconda3/envs/rtsuite/lib/python3.9/site-packages (from pandas) (2023.3)\n",
      "Requirement already satisfied: numpy>=1.20.3 in /opt/anaconda3/envs/rtsuite/lib/python3.9/site-packages (from pandas) (1.24.3)\n",
      "Requirement already satisfied: six>=1.5 in /opt/anaconda3/envs/rtsuite/lib/python3.9/site-packages (from python-dateutil>=2.8.2->pandas) (1.16.0)\n",
      "Requirement already satisfied: matplotlib in /opt/anaconda3/envs/rtsuite/lib/python3.9/site-packages (3.7.1)\n",
      "Requirement already satisfied: contourpy>=1.0.1 in /opt/anaconda3/envs/rtsuite/lib/python3.9/site-packages (from matplotlib) (1.1.0)\n",
      "Requirement already satisfied: cycler>=0.10 in /opt/anaconda3/envs/rtsuite/lib/python3.9/site-packages (from matplotlib) (0.11.0)\n",
      "Requirement already satisfied: fonttools>=4.22.0 in /opt/anaconda3/envs/rtsuite/lib/python3.9/site-packages (from matplotlib) (4.40.0)\n",
      "Requirement already satisfied: kiwisolver>=1.0.1 in /opt/anaconda3/envs/rtsuite/lib/python3.9/site-packages (from matplotlib) (1.4.4)\n",
      "Requirement already satisfied: numpy>=1.20 in /opt/anaconda3/envs/rtsuite/lib/python3.9/site-packages (from matplotlib) (1.24.3)\n",
      "Requirement already satisfied: packaging>=20.0 in /opt/anaconda3/envs/rtsuite/lib/python3.9/site-packages (from matplotlib) (23.1)\n",
      "Requirement already satisfied: pillow>=6.2.0 in /opt/anaconda3/envs/rtsuite/lib/python3.9/site-packages (from matplotlib) (9.5.0)\n",
      "Requirement already satisfied: pyparsing>=2.3.1 in /opt/anaconda3/envs/rtsuite/lib/python3.9/site-packages (from matplotlib) (3.0.9)\n",
      "Requirement already satisfied: python-dateutil>=2.7 in /opt/anaconda3/envs/rtsuite/lib/python3.9/site-packages (from matplotlib) (2.8.2)\n",
      "Requirement already satisfied: importlib-resources>=3.2.0 in /opt/anaconda3/envs/rtsuite/lib/python3.9/site-packages (from matplotlib) (5.12.0)\n",
      "Requirement already satisfied: zipp>=3.1.0 in /opt/anaconda3/envs/rtsuite/lib/python3.9/site-packages (from importlib-resources>=3.2.0->matplotlib) (3.15.0)\n",
      "Requirement already satisfied: six>=1.5 in /opt/anaconda3/envs/rtsuite/lib/python3.9/site-packages (from python-dateutil>=2.7->matplotlib) (1.16.0)\n"
     ]
    }
   ],
   "source": [
    "# install prerequisites\n",
    "!pip install numpy\n",
    "!pip install pandas\n",
    "!pip install matplotlib"
   ]
  },
  {
   "attachments": {},
   "cell_type": "markdown",
   "metadata": {},
   "source": [
    "## Real-time Tests\n",
    "\n",
    "The following cell is dedicated for differnet RT tests. You can run the cell to see the results."
   ]
  },
  {
   "cell_type": "code",
   "execution_count": 2,
   "metadata": {},
   "outputs": [],
   "source": [
    "# import the rttests package\n",
    "from rttests.rttests_main import rttests"
   ]
  },
  {
   "cell_type": "code",
   "execution_count": 3,
   "metadata": {},
   "outputs": [
    {
     "name": "stdout",
     "output_type": "stream",
     "text": [
      "taskset csv is located at: ./tasksets/t1.csv\n",
      "Test type is: ub\n",
      "Scheduling policy is: rm\n",
      "Utilization bound: 0.7798\n",
      "Utilization (Period): 1.0000\n",
      "Utilization (Deadline): 1.0000\n",
      "Utilization bound test inconclusive\n",
      "taskset csv is located at: ./tasksets/t2.csv\n",
      "Test type is: rt\n",
      "Scheduling policy is: rm\n",
      "1th iteration R: 180\n",
      "2th iteration R: 260\n",
      "3th iteration R: 300\n",
      "Response time test passed!300 == 300\n",
      "taskset csv is located at: ./tasksets/t2.csv\n",
      "Test type is: rt\n",
      "Scheduling policy is: dm\n",
      "1th iteration R: 180\n",
      "2th iteration R: 260\n",
      "3th iteration R: 300\n",
      "Response time test passed!300 == 300\n"
     ]
    }
   ],
   "source": [
    "# simple examples with tasksets\n",
    "rttests(\"./tasksets/t1.csv\", \"ub\", \"rm\") # utilization bound test under Rate Monotonic\n",
    "rttests(\"./tasksets/t2.csv\", \"rt\", \"rm\") # response time test under Rate Monotonic\n",
    "rttests(\"./tasksets/t2.csv\", \"rt\", \"dm\") # response time test under Deadline Monotonic"
   ]
  },
  {
   "cell_type": "code",
   "execution_count": 4,
   "metadata": {},
   "outputs": [
    {
     "name": "stdout",
     "output_type": "stream",
     "text": [
      "taskset csv is located at: ./tasksets/t3.csv\n",
      "Test type is: ub\n",
      "Scheduling policy is: rm\n",
      "Utilization bound: 0.7798\n",
      "Utilization (Period): 0.7833\n",
      "Utilization (Deadline): 0.7833\n",
      "Utilization bound test inconclusive\n",
      "taskset csv is located at: ./tasksets/t4.csv\n",
      "Test type is: rt\n",
      "Scheduling policy is: dm\n",
      "1th iteration R: 150\n",
      "Response time test failed!210 > 200\n"
     ]
    }
   ],
   "source": [
    "# uncomment the following lines to run the tests - no jitters\n",
    "rttests(\"./tasksets/t3.csv\", \"ub\", \"rm\") # utilization bound test under Rate Monotonic\n",
    "rttests(\"./tasksets/t4.csv\", \"rt\", \"dm\") # response time test under Deadline Monotonic"
   ]
  },
  {
   "cell_type": "code",
   "execution_count": 5,
   "metadata": {},
   "outputs": [
    {
     "name": "stdout",
     "output_type": "stream",
     "text": [
      "taskset csv is located at: ./tasksets/t5.csv\n",
      "Test type is: rt\n",
      "Scheduling policy is: rm\n",
      "WARNING: taskset has jitter!\n",
      "1th iteration R: 5\n",
      "2th iteration R: 6\n",
      "Response time test passed!6 == 6\n",
      "taskset csv is located at: ./tasksets/t6.csv\n",
      "Test type is: rt\n",
      "Scheduling policy is: dm\n",
      "WARNING: taskset has jitter!\n",
      "1th iteration R: 19\n",
      "Response time test failed!26 + 0 > 25\n"
     ]
    }
   ],
   "source": [
    "# uncomment the following lines to run the tests - has jitters!\n",
    "rttests(\"./tasksets/t5.csv\", \"rt\", \"rm\") # utilization bound test under Rate Monotonic\n",
    "rttests(\"./tasksets/t6.csv\", \"rt\", \"dm\") # utilization bound test under Deadline Monotonic"
   ]
  }
 ],
 "metadata": {
  "kernelspec": {
   "display_name": "rtsuite",
   "language": "python",
   "name": "python3"
  },
  "language_info": {
   "codemirror_mode": {
    "name": "ipython",
    "version": 3
   },
   "file_extension": ".py",
   "mimetype": "text/x-python",
   "name": "python",
   "nbconvert_exporter": "python",
   "pygments_lexer": "ipython3",
   "version": "3.9.16"
  },
  "orig_nbformat": 4
 },
 "nbformat": 4,
 "nbformat_minor": 2
}
