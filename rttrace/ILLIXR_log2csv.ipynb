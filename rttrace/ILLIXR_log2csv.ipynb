{
 "cells": [
  {
   "cell_type": "markdown",
   "metadata": {},
   "source": [
    "# ILLIXR Log to CSV"
   ]
  },
  {
   "cell_type": "code",
   "execution_count": 2,
   "metadata": {},
   "outputs": [],
   "source": [
    "import re\n",
    "import pandas as pd\n",
    "\n",
    "def timewarp_gl_to_csv(log_filepath):\n",
    "    # Regular expression pattern for timewarp_gl entries\n",
    "    pattern_timewarp = r'\\[(.*?)\\] \\[timewarp_gl\\] \\[debug\\] <RTEN> timewarp_gl (.*?): (\\d+\\.\\d+)'\n",
    "\n",
    "    # Dictionary to keep track of start times\n",
    "    timewarp_starts = {}\n",
    "\n",
    "    # List for parsed data\n",
    "    parsed_data_timewarp = []\n",
    "\n",
    "    # Read the log file\n",
    "    with open(log_filepath, 'r') as file:\n",
    "        for line in file:\n",
    "            match = re.search(pattern_timewarp, line)\n",
    "            if match:\n",
    "                timestamp, phase, rt = match.groups()\n",
    "                if phase.endswith('begin'):\n",
    "                    timewarp_starts[timestamp] = rt\n",
    "                elif phase.endswith('end'):\n",
    "                    # Find the corresponding start timestamp\n",
    "                    start_ts = next(iter(timewarp_starts))\n",
    "                    parsed_data_timewarp.append({\n",
    "                        'Task': 'timewarp_gl',\n",
    "                        'start_rt': timewarp_starts.pop(start_ts),\n",
    "                        'finish_rt': rt,\n",
    "                        'start_ts': start_ts,\n",
    "                        'finish_ts': timestamp\n",
    "                    })\n",
    "\n",
    "    # Create DataFrame and save to CSV for timewarp_gl\n",
    "    df_timewarp = pd.DataFrame(parsed_data_timewarp)\n",
    "    df_timewarp.to_csv('timewarp_output.csv', index=False)\n",
    "\n",
    "def gldemo_to_csv(log_filepath):\n",
    "    # Regular expression pattern for gldemo entries\n",
    "    pattern_gldemo = r'\\[(.*?)\\] \\[gldemo\\] \\[debug\\] <RTEN> gldemo (.*?): (\\d+\\.\\d+)'\n",
    "\n",
    "    # Dictionary to keep track of 'begin after vsync' start times\n",
    "    gldemo_starts = {}\n",
    "\n",
    "    # List for parsed data\n",
    "    parsed_data_gldemo = []\n",
    "\n",
    "    # Read the log file\n",
    "    with open(log_filepath, 'r') as file:\n",
    "        for line in file:\n",
    "            match = re.search(pattern_gldemo, line)\n",
    "            if match:\n",
    "                timestamp, phase, rt = match.groups()\n",
    "                if phase == 'begin after vsync':\n",
    "                    gldemo_starts[timestamp] = rt\n",
    "                elif phase == 'begin before vsync' and gldemo_starts:\n",
    "                    # Find the corresponding start timestamp\n",
    "                    start_ts = next(iter(gldemo_starts))\n",
    "                    parsed_data_gldemo.append({\n",
    "                        'Task': 'gldemo',\n",
    "                        'start_rt': gldemo_starts.pop(start_ts),\n",
    "                        'finish_rt': rt,\n",
    "                        'start_ts': start_ts,\n",
    "                        'finish_ts': timestamp\n",
    "                    })\n",
    "\n",
    "    # Create DataFrame and save to CSV for gldemo\n",
    "    df_gldemo = pd.DataFrame(parsed_data_gldemo)\n",
    "    df_gldemo.to_csv('gldemo_output.csv', index=False)\n"
   ]
  },
  {
   "cell_type": "code",
   "execution_count": 3,
   "metadata": {},
   "outputs": [],
   "source": [
    "def parse_ILLIXR_to_csv(log_filepath):\n",
    "    gldemo_to_csv(log_filepath)\n",
    "    timewarp_gl_to_csv(log_filepath)"
   ]
  },
  {
   "cell_type": "code",
   "execution_count": 4,
   "metadata": {},
   "outputs": [],
   "source": [
    "if __name__ == '__main__':\n",
    "    parse_ILLIXR_to_csv('./MH01_20240129_8C30W/log_MH01_2.txt')"
   ]
  }
 ],
 "metadata": {
  "kernelspec": {
   "display_name": "py39",
   "language": "python",
   "name": "python3"
  },
  "language_info": {
   "codemirror_mode": {
    "name": "ipython",
    "version": 3
   },
   "file_extension": ".py",
   "mimetype": "text/x-python",
   "name": "python",
   "nbconvert_exporter": "python",
   "pygments_lexer": "ipython3",
   "version": "3.9.16"
  }
 },
 "nbformat": 4,
 "nbformat_minor": 2
}
